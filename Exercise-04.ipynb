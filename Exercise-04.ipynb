{
 "cells": [
  {
   "cell_type": "code",
   "execution_count": 1,
   "metadata": {},
   "outputs": [
    {
     "name": "stdout",
     "output_type": "stream",
     "text": [
      "Chanisa Ulkarimah\n",
      "I0322026\n",
      "A\n"
     ]
    }
   ],
   "source": [
    "print(input(\"Nama: \"))\n",
    "print(input(\"NIM: \"))\n",
    "print(input(\"Kelas: \"))"
   ]
  },
  {
   "attachments": {},
   "cell_type": "markdown",
   "metadata": {},
   "source": [
    "## 1."
   ]
  },
  {
   "attachments": {},
   "cell_type": "markdown",
   "metadata": {},
   "source": [
    "Buatlah program persyaratan pembuatan SIM dengan input yaitu nama user, umur user, dan nilai tes user.<br>\n",
    "Dengan ketentuan mendapat SIM sebagai berikut:\n",
    "* Umur dari user harus lebih dari sama dengan 17 tahun\n",
    "* Nilai tes lebih dari sama dengan 70\n",
    "\n",
    "<br>Output yang dihasilkan dari program adalah:\n",
    "<br>\"Selamat Anda Berhak Mendapatkan SIM Anda\"\n",
    "<br>\"Maaf, Anda tidak berhak mendapatkan SIM anda\"\n",
    "> *note: Kerjakan soal ini dengan percabangan*"
   ]
  },
  {
   "cell_type": "code",
   "execution_count": 6,
   "metadata": {},
   "outputs": [
    {
     "name": "stdout",
     "output_type": "stream",
     "text": [
      "\"Selamat Anda Berhak Mendapatkan SIM Anda\"\n"
     ]
    }
   ],
   "source": [
    "#input nama user, umur user, dan nilai tes user\n",
    "nama = input('Masukkan nama Anda: ')\n",
    "umur = int(input('Masukkan umur Anda: '))\n",
    "nilai_tes = int(input('Masukkan nilai tes Anda: '))\n",
    "\n",
    "#percabangan\n",
    "if umur >= 17 and nilai_tes >= 70:\n",
    "    print('\"Selamat Anda Berhak Mendapatkan SIM Anda\"')\n",
    "else:\n",
    "    print('\"Maaf, Anda tidak berhak mendapatkan SIM Anda\"')"
   ]
  },
  {
   "attachments": {},
   "cell_type": "markdown",
   "metadata": {},
   "source": [
    "## 2."
   ]
  },
  {
   "attachments": {},
   "cell_type": "markdown",
   "metadata": {},
   "source": [
    "Buatlah program untuk mencari bilangan terbesar yang diinput dari user.<br>\n",
    "<br>Dengan ketentuan sebagai berikut:\n",
    "* Program nenerima 3 input bilangan dari user\n",
    "* Program akan menentukan mana bilangan terbesar\n",
    "* Output yang akan dihasilkan misalnya adalah \"Dari bil_1, bil_2, dan bil_3, bilangan terbesarnya adalah bilangan bil_2\"\n",
    "> *note: Kerjakan soal ini dengan percabangan*"
   ]
  },
  {
   "cell_type": "code",
   "execution_count": 12,
   "metadata": {},
   "outputs": [
    {
     "name": "stdout",
     "output_type": "stream",
     "text": [
      "Dari 11 , 10 , dan 9 , bilangan terbesarnya adalah 11\n"
     ]
    }
   ],
   "source": [
    "#input 3 bilangan dari user\n",
    "bil1 = int(input('Masukkan bilangan pertama: '))\n",
    "bil2 = int(input('Masukkan bilangan kedua: '))\n",
    "bil3 = int(input('Masukkan bilangan ketiga: '))\n",
    "\n",
    "#percabangan\n",
    "if bil1 > bil2 > bil3:\n",
    "    print('Dari', bil1,',', bil2,', dan', bil3,', bilangan terbesarnya adalah', bil1)\n",
    "elif bil2 > bil1 > bil3:\n",
    "    print('Dari', bil1,',', bil2,', dan', bil3,', bilangan terbesarnya adalah', bil2)\n",
    "elif bil3 > bil1 > bil2:\n",
    "    print('Dari', bil1,',', bil2,', dan', bil3,', bilangan terbesarnya adalah', bil3)"
   ]
  }
 ],
 "metadata": {
  "kernelspec": {
   "display_name": "Python 3",
   "language": "python",
   "name": "python3"
  },
  "language_info": {
   "codemirror_mode": {
    "name": "ipython",
    "version": 3
   },
   "file_extension": ".py",
   "mimetype": "text/x-python",
   "name": "python",
   "nbconvert_exporter": "python",
   "pygments_lexer": "ipython3",
   "version": "3.9.6"
  },
  "orig_nbformat": 4,
  "vscode": {
   "interpreter": {
    "hash": "b667cebad148e7b094a58ee81f940c685de1dd70a003a9ccdca4a5792431bee5"
   }
  }
 },
 "nbformat": 4,
 "nbformat_minor": 2
}
