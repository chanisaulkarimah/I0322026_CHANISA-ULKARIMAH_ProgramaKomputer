{
 "cells": [
  {
   "attachments": {},
   "cell_type": "markdown",
   "metadata": {},
   "source": [
    "1. Buatlah program untuk menampilkan total penjumlahan bilangan ganjil dan total penjumlahan bilangan genap dengan input dari user berupa range (batas atas dan batas bawah)!"
   ]
  },
  {
   "cell_type": "code",
   "execution_count": null,
   "metadata": {},
   "outputs": [],
   "source": [
    "# Kerjakan nomor 1 di sini"
   ]
  },
  {
   "attachments": {},
   "cell_type": "markdown",
   "metadata": {},
   "source": [
    "2. Buatlah sebuah list yang berisi daftar makanan khas daerah (minimal 10 makanan termasuk makanan khas Solo). Kemudian buat program pencarian menggunakan pengulangan. Apabila nama makanan yang user inputkan sudah sesuai dengan isi list maka program akan berhenti dan menampilkan output \"(makanan yang diinput user) adalah makanan khas daerah\"."
   ]
  },
  {
   "cell_type": "code",
   "execution_count": null,
   "metadata": {},
   "outputs": [],
   "source": [
    "# Kerjakan nomor 2 di sini"
   ]
  },
  {
   "attachments": {},
   "cell_type": "markdown",
   "metadata": {},
   "source": [
    "3. Buatlah program untuk menghitung rata-rata 7 bilangan dimana bilangan-bilangan tersebut didapat melalui input user!"
   ]
  },
  {
   "cell_type": "code",
   "execution_count": null,
   "metadata": {},
   "outputs": [],
   "source": [
    "# Kerjakan nomor 3 di sini"
   ]
  }
 ],
 "metadata": {
  "language_info": {
   "name": "python"
  },
  "orig_nbformat": 4
 },
 "nbformat": 4,
 "nbformat_minor": 2
}
