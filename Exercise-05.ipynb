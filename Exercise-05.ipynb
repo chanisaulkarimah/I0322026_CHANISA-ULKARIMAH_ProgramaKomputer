{
 "cells": [
  {
   "attachments": {},
   "cell_type": "markdown",
   "metadata": {},
   "source": [
    "1. Buatlah program untuk menampilkan total penjumlahan bilangan ganjil dan total penjumlahan bilangan genap dengan input dari user berupa range (batas atas dan batas bawah)!"
   ]
  },
  {
   "cell_type": "code",
   "execution_count": 3,
   "metadata": {},
   "outputs": [
    {
     "name": "stdout",
     "output_type": "stream",
     "text": [
      "Total penjumlahan bilangan ganjil adalah 625\n",
      "Total penjumlahan bilangan genpa adalah 650\n"
     ]
    }
   ],
   "source": [
    "batas_akhir = int(input('Masukkan batas akhir: '))\n",
    "batas_awal = int(input('Masukkan batas awal: '))\n",
    "\n",
    "ganjil = 0 \n",
    "genap = 0\n",
    "\n",
    "for bil in range(batas_awal,batas_akhir+1):\n",
    "    if bil % 2 == 1:\n",
    "        ganjil += bil\n",
    "    else:\n",
    "        genap += bil\n",
    "\n",
    "print('Total penjumlahan bilangan ganjil adalah', ganjil)\n",
    "print('Total penjumlahan bilangan genpa adalah', genap)"
   ]
  },
  {
   "attachments": {},
   "cell_type": "markdown",
   "metadata": {},
   "source": [
    "2. Buatlah sebuah list yang berisi daftar makanan khas daerah (minimal 10 makanan termasuk makanan khas Solo). Kemudian buat program pencarian menggunakan pengulangan. Apabila nama makanan yang user inputkan sudah sesuai dengan isi list maka program akan berhenti dan menampilkan output \"(makanan yang diinput user) adalah makanan khas daerah\"."
   ]
  },
  {
   "cell_type": "code",
   "execution_count": 1,
   "metadata": {},
   "outputs": [
    {
     "name": "stdout",
     "output_type": "stream",
     "text": [
      "Gudeg merupakan salah satu makanan daerah khas Indonesia\n"
     ]
    }
   ],
   "source": [
    "khas = ['Timlo',\n",
    "        'Pempek', \n",
    "        'Selat Solo', \n",
    "        'Gudeg', \n",
    "        'Rendang', \n",
    "        'Bika Ambon', \n",
    "        'Soto Banjar',\n",
    "        'Rawon',\n",
    "        'Nasi Liwet',\n",
    "        'Gado-gado'\n",
    "        ]\n",
    "\n",
    "while True:\n",
    "        makanan = input('Masukkan nama makanan khas daerah: ')\n",
    "        if makanan in khas:\n",
    "                print(makanan, 'merupakan salah satu makanan daerah khas Indonesia')\n",
    "                break\n",
    "        else:\n",
    "                print(makanan, 'tidak termasuk makanan khas Indonesia')"
   ]
  },
  {
   "attachments": {},
   "cell_type": "markdown",
   "metadata": {},
   "source": [
    "3. Buatlah program untuk menghitung rata-rata 7 bilangan dimana bilangan-bilangan tersebut didapat melalui input user!"
   ]
  },
  {
   "cell_type": "code",
   "execution_count": 4,
   "metadata": {},
   "outputs": [
    {
     "name": "stdout",
     "output_type": "stream",
     "text": [
      "Rata-rata dari tujuh bilangan tersebut 4.0\n"
     ]
    }
   ],
   "source": [
    "jumlah = 0\n",
    "bil_ke = 1\n",
    "\n",
    "while bil_ke <= 7:\n",
    "    bil = float(input('Masukkan bilangan ke-{}: '.format(bil_ke)))\n",
    "    jumlah += bil\n",
    "    bil_ke += 1\n",
    "\n",
    "mean = jumlah / 7\n",
    "\n",
    "print('Rata-rata dari tujuh bilangan tersebut', mean)\n"
   ]
  }
 ],
 "metadata": {
  "kernelspec": {
   "display_name": "Python 3",
   "language": "python",
   "name": "python3"
  },
  "language_info": {
   "codemirror_mode": {
    "name": "ipython",
    "version": 3
   },
   "file_extension": ".py",
   "mimetype": "text/x-python",
   "name": "python",
   "nbconvert_exporter": "python",
   "pygments_lexer": "ipython3",
   "version": "3.9.6"
  },
  "orig_nbformat": 4
 },
 "nbformat": 4,
 "nbformat_minor": 2
}
