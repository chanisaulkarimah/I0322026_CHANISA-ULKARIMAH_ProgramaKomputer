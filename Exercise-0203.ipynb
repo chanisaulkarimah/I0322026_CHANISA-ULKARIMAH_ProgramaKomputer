{
 "cells": [
  {
   "cell_type": "code",
   "execution_count": 2,
   "metadata": {},
   "outputs": [
    {
     "name": "stdout",
     "output_type": "stream",
     "text": [
      "Chanisa Ulkarimah\n",
      "I0322026\n",
      "A\n"
     ]
    }
   ],
   "source": [
    "print(input(\"Nama: \"))\n",
    "print(input(\"NIM: \"))\n",
    "print(input(\"Kelas: \"))"
   ]
  },
  {
   "attachments": {},
   "cell_type": "markdown",
   "metadata": {},
   "source": [
    "## 1."
   ]
  },
  {
   "attachments": {},
   "cell_type": "markdown",
   "metadata": {},
   "source": [
    "buatlah program sederhana untuk menghitung umur pengguna dengan ketentuan sebagai berikut :\n",
    "* Program meminta pengguna memasukan tanggal, bulan, dan tahun lahir\n",
    "* Program menghitung umur pengguna hingga tanggal 1 januari 2023\n",
    "* Program menampilkan umur dari pengguna"
   ]
  },
  {
   "cell_type": "code",
   "execution_count": 4,
   "metadata": {},
   "outputs": [
    {
     "name": "stdout",
     "output_type": "stream",
     "text": [
      "Umur Anda pada 1 Januari 2023 adalah 18 tahun.\n"
     ]
    }
   ],
   "source": [
    "# import library datetime untuk mengolah tanggal\n",
    "import datetime\n",
    "\n",
    "# meminta pengguna memasukkan tanggal, bulan, dan tahun lahir\n",
    "tanggal = int(input(\"Masukkan tanggal lahir Anda (dalam angka): \"))\n",
    "bulan = int(input(\"Masukkan bulan lahir Anda (dalam angka): \"))\n",
    "tahun = int(input(\"Masukkan tahun lahir Anda (dalam angka): \"))\n",
    "\n",
    "# menghitung umur pengguna hingga tanggal 1 Januari 2023\n",
    "tanggal_lahir = datetime.date(tahun, bulan, tanggal)\n",
    "umur = (datetime.date(2023, 1, 1) - tanggal_lahir).days // 365\n",
    "\n",
    "# menampilkan umur pengguna\n",
    "print(\"Umur Anda pada 1 Januari 2023 adalah\", umur, \"tahun.\")"
   ]
  },
  {
   "attachments": {},
   "cell_type": "markdown",
   "metadata": {},
   "source": [
    "## 2."
   ]
  },
  {
   "attachments": {},
   "cell_type": "markdown",
   "metadata": {},
   "source": [
    "Pada 2015, wabah flu burung menyerang Indonesia dan beberapa peternak ayam mengalami kerugian karena banyaknya ayam yang mati. Setiap bulan, jumlah ayamnya berkurang menjadi setengah. Setelah dua bulan, jumlah ayam yang tersisa adalah 200 ekor. Hitunglah jumlah ayam sebelumnya yang dimiliki peternak tersebut! (gunakan rumus deret geometri)\n",
    "\n",
    "> *note: SOAL DIATAS DIKERJAKAN SESUAI DENGAN RUMUS BAKU*"
   ]
  },
  {
   "cell_type": "code",
   "execution_count": 1,
   "metadata": {},
   "outputs": [
    {
     "name": "stdout",
     "output_type": "stream",
     "text": [
      "Jadi,jumlah ayam sebelumnya yang dimiliki peternak adalah 800.0 ekor\n"
     ]
    }
   ],
   "source": [
    "#definisi data\n",
    "Un = 200\n",
    "r = 1/2\n",
    "n = 3\n",
    "\n",
    "#menghitung a menggunakan rumus deret geometri\n",
    "a = Un/r**(n-1)\n",
    "\n",
    "#output\n",
    "print('Jadi,jumlah ayam sebelumnya yang dimiliki peternak adalah', a, 'ekor')"
   ]
  },
  {
   "attachments": {},
   "cell_type": "markdown",
   "metadata": {},
   "source": [
    "## 3."
   ]
  },
  {
   "attachments": {},
   "cell_type": "markdown",
   "metadata": {},
   "source": [
    "* **A** Hitunglah luas Prisma Segitiga dengan ketentuan sebagai berikut:\n",
    "    * Alas dan tutup prisma merupakan segitiga\n",
    "    * Terdapat 3 persegi panjang yang menyinggung alas dan tutup prisma\n",
    "    * Sisi persegi panjang yang menyinggung segitiga adalah sisi lebar\n",
    "```python\n",
    "    dictionary_figure = {\"Persegi\":{\"Sisi\":22},\n",
    "                        \"Persegi Panjang\":{\"Panjang\":10,\"Lebar\":5},\n",
    "                        \"Segitiga Sama Sisi\":{\"Sisi\":6,\"Tinggi\":3**(1/2) * 3},\n",
    "                        \"Lingkaran\":{\"Diameter\":7}}\n",
    "```\n",
    "* **B** Hitunglah luas Tabung dengan ketentuan sebagai berikut:\n",
    "    * Alas dan tutup tabung merupakan lingkaran\n",
    "    * Terdapat 1 persegi yang menyinggung alas dan tutup tabung\n",
    "    * Persegi yang ada mengelilingi lingkaran hingga sisi dari persegi saling bertemu\n",
    "\n",
    "> *note: Pada soal ini kalian hanya boleh menggunakan key-value pair dan index pada list. Tidak diperbolehkan menulis secara langsung dimensi dari figure*"
   ]
  },
  {
   "cell_type": "code",
   "execution_count": 5,
   "metadata": {},
   "outputs": [],
   "source": [
    "dictionary_figure = {\"Persegi\":{\"Sisi\":22},\n",
    "                    \"Persegi Panjang\":{\"Panjang\":10,\"Lebar\":5},\n",
    "                    \"Segitiga Sama Sisi\":{\"Sisi\":6,\"Tinggi\":3**(1/2) * 3},\n",
    "                    \"Lingkaran\":{\"Diameter\":7}}"
   ]
  },
  {
   "cell_type": "code",
   "execution_count": 6,
   "metadata": {},
   "outputs": [
    {
     "name": "stdout",
     "output_type": "stream",
     "text": [
      "Jadi, luas permukaan prisma segitiga sama sisi tersebut adalah 211.1769145362398\n"
     ]
    }
   ],
   "source": [
    "#definisi nilai sisi, tinggi, dan lebar dari dictionary figure\n",
    "sisi_segitigasamasisi = dictionary_figure[\"Segitiga Sama Sisi\"][\"Sisi\"]\n",
    "tinggi_segitigasamasisi = dictionary_figure[\"Segitiga Sama Sisi\"][\"Tinggi\"]\n",
    "panjang_persegipanjang = dictionary_figure[\"Persegi Panjang\"][\"Panjang\"]\n",
    "\n",
    "#menghitung luas dan keliling segitiga sama sisi\n",
    "luas_segitiga = 0.5*sisi_segitigasamasisi*tinggi_segitigasamasisi\n",
    "keliling_segitiga = 3*sisi_segitigasamasisi\n",
    "\n",
    "#menghitung luas permukaan prisma segitiga\n",
    "luas_permukaan_prisma = (2*luas_segitiga)+(keliling_segitiga*panjang_persegipanjang)\n",
    "\n",
    "#menampilkan luas permukaan prisma segitiga\n",
    "print('Jadi, luas permukaan prisma segitiga sama sisi tersebut adalah', luas_permukaan_prisma)"
   ]
  },
  {
   "cell_type": "code",
   "execution_count": 7,
   "metadata": {},
   "outputs": [
    {
     "name": "stdout",
     "output_type": "stream",
     "text": [
      "Jadi, luas permukaan tabung tersebut adalah 528.0\n"
     ]
    }
   ],
   "source": [
    "#definisi nilai diameter dan panjang dari dictionary figure dan phi\n",
    "diameter_lingkaran =  dictionary_figure[\"Lingkaran\"][\"Diameter\"]\n",
    "panjang_persegipanjang =  dictionary_figure[\"Persegi Panjang\"][\"Panjang\"]\n",
    "phi = 22/7\n",
    "\n",
    "#menghitung luas permukaan tabung\n",
    "luas_tabung = phi*diameter_lingkaran*((2*diameter_lingkaran)+panjang_persegipanjang)\n",
    "\n",
    "#menampilkan luas permukaan tabung\n",
    "print('Jadi, luas permukaan tabung tersebut adalah', luas_tabung)"
   ]
  }
 ],
 "metadata": {
  "kernelspec": {
   "display_name": "Python 3",
   "language": "python",
   "name": "python3"
  },
  "language_info": {
   "codemirror_mode": {
    "name": "ipython",
    "version": 3
   },
   "file_extension": ".py",
   "mimetype": "text/x-python",
   "name": "python",
   "nbconvert_exporter": "python",
   "pygments_lexer": "ipython3",
   "version": "3.9.6"
  },
  "orig_nbformat": 4
 },
 "nbformat": 4,
 "nbformat_minor": 2
}
